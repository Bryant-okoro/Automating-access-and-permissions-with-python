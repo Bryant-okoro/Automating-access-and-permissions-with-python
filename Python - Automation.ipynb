{
  "metadata": {
    "kernelspec": {
      "name": "python",
      "display_name": "Python (Pyodide)",
      "language": "python"
    },
    "language_info": {
      "codemirror_mode": {
        "name": "python",
        "version": 3
      },
      "file_extension": ".py",
      "mimetype": "text/x-python",
      "name": "python",
      "nbconvert_exporter": "python",
      "pygments_lexer": "ipython3",
      "version": "3.8"
    }
  },
  "nbformat_minor": 4,
  "nbformat": 4,
  "cells": [
    {
      "cell_type": "markdown",
      "source": "# Scenario\n---\nI am a security professional working at a health care company. As part of my job, I'm required to regularly update a file that identifies the employees who can access restricted content. The contents of the file are based on who is working with personal patient records. Employees are restricted access based on their IP address. There is an allow list for IP addresses permitted to sign into the restricted subnetwork. There's also a remove list that identifies which employees I must remove from this allow list.\n\nMy task is to create an algorithm that uses Python code to check whether the allow list contains any IP addresses identified on the remove list. If so, I remove those IP addresses from the file containing the allow list.\n",
      "metadata": {}
    },
    {
      "cell_type": "markdown",
      "source": "## Importing and Reading the File's Contents",
      "metadata": {}
    },
    {
      "cell_type": "code",
      "source": "# import the file \nimport_file = \"allow_list.txt\"\n\n",
      "metadata": {},
      "outputs": [],
      "execution_count": 1
    },
    {
      "cell_type": "code",
      "source": "# Open the file\nwith open(import_file, \"r\") as file: \n    ip_addresses = file.read()",
      "metadata": {},
      "outputs": [],
      "execution_count": 3
    },
    {
      "cell_type": "code",
      "source": "# display the ip_addresses\nprint(ip_addresses)\n\n ",
      "metadata": {},
      "outputs": [
        {
          "name": "stdout",
          "output_type": "stream",
          "text": [
            "ip_address\n",
            "192.168.25.60\n",
            "192.168.205.12\n",
            "192.168.97.225\n",
            "192.168.6.9\n",
            "192.168.52.90\n",
            "192.168.158.170\n",
            "192.168.90.124\n",
            "192.168.186.176\n",
            "192.168.133.188\n",
            "192.168.203.198\n",
            "192.168.201.40\n",
            "192.168.218.219\n",
            "192.168.52.37\n",
            "192.168.156.224\n",
            "192.168.60.153\n",
            "192.168.58.57\n",
            "192.168.69.116\n",
            "\n"
          ]
        }
      ],
      "execution_count": 6
    },
    {
      "cell_type": "markdown",
      "source": "## Converting the String into a List",
      "metadata": {}
    },
    {
      "cell_type": "code",
      "source": "# String into a list\nimport_file = \"allow_list.txt\"\n\n# `with`statement to read the contents\nwith open(import_file, \"r\") as file: \n    ip_addresses = file.read()\n\n# convert from a string to a list\nip_addresses = ip_addresses.split()\n\n# Display the `ip_addresses`\nprint(ip_addresses)\n\n",
      "metadata": {},
      "outputs": [
        {
          "name": "stdout",
          "output_type": "stream",
          "text": [
            "['ip_address', '192.168.25.60', '192.168.205.12', '192.168.97.225', '192.168.6.9', '192.168.52.90', '192.168.158.170', '192.168.90.124', '192.168.186.176', '192.168.133.188', '192.168.203.198', '192.168.201.40', '192.168.218.219', '192.168.52.37', '192.168.156.224', '192.168.60.153', '192.168.58.57', '192.168.69.116']\n"
          ]
        }
      ],
      "execution_count": 8
    },
    {
      "cell_type": "markdown",
      "source": "## Removing the IP Addresses That Are on the Remove List",
      "metadata": {}
    },
    {
      "cell_type": "code",
      "source": "# import the file \nimport_file = \"allow_list.txt\"\n\n# Assign `remove_list` to a list of IP addresses that are no longer allowed to access restricted information. \n\nremove_list = [\"192.168.97.225\", \"192.168.158.170\", \"192.168.201.40\", \"192.168.58.57\"]\n\n# `with`statement to read the contents\nwith open(import_file, \"r\") as file: \n    ip_addresses = file.read()\n\n# convert from a string to a list\nip_addresses = ip_addresses.split()\n\n# Build iterative statement\n# Name loop variable `element`\n# Loop through `ip_addresses`\n\nfor element in ip_addresses:\n  \n  # Build conditional statement\n  # If current element is in `remove_list`,\n\n    if element in remove_list:\n\n        # then current element should be removed from `ip_addresses`\n\n        ip_addresses.remove(element)\n\n# Display `ip_addresses` \n\nprint(ip_addresses)",
      "metadata": {},
      "outputs": [
        {
          "name": "stdout",
          "output_type": "stream",
          "text": [
            "['ip_address', '192.168.25.60', '192.168.205.12', '192.168.6.9', '192.168.52.90', '192.168.90.124', '192.168.186.176', '192.168.133.188', '192.168.203.198', '192.168.218.219', '192.168.52.37', '192.168.156.224', '192.168.60.153', '192.168.69.116']\n"
          ]
        }
      ],
      "execution_count": 10
    },
    {
      "cell_type": "markdown",
      "source": "## Updating the File With the Revised List of IP Addresses",
      "metadata": {}
    },
    {
      "cell_type": "code",
      "source": "import_file = \"allow_list.txt\"\n\nremove_list = [\"192.168.97.225\", \"192.168.158.170\", \"192.168.201.40\", \"192.168.58.57\"]\n\nwith open(import_file, \"r\") as file:\n\n  ip_addresses = file.read()\n\nip_addresses = ip_addresses.split()\n\nfor element in ip_addresses:\n   \n    if element in remove_list:\n\n        ip_addresses.remove(element)\n\n# Convert `ip_addresses` back to a string so that it can be written into the text file     \n\nip_addresses = \" \".join(ip_addresses)\n\n# Build `with` statement to rewrite the original file\n\nwith open(import_file, \"w\") as file:\n\n  # Rewrite the file, replacing its contents with `ip_addresses`\n\n  file.write(ip_addresses)\n\n# Build `with` statement to read in the updated file\n\nwith open(import_file, \"r\") as file:\n\n    # Read in the updated file and store the contents in `text`\n\n    text = file.read()\n\n# Display the contents of `text`\n\nprint(text)",
      "metadata": {},
      "outputs": [
        {
          "name": "stdout",
          "output_type": "stream",
          "text": [
            "ip_address 192.168.25.60 192.168.205.12 192.168.6.9 192.168.52.90 192.168.90.124 192.168.186.176 192.168.133.188 192.168.203.198 192.168.218.219 192.168.52.37 192.168.156.224 192.168.60.153 192.168.69.116\n"
          ]
        }
      ],
      "execution_count": 11
    },
    {
      "cell_type": "code",
      "source": "",
      "metadata": {},
      "outputs": [],
      "execution_count": null
    }
  ]
}